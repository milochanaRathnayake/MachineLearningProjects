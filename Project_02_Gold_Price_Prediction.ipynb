{
  "nbformat": 4,
  "nbformat_minor": 0,
  "metadata": {
    "colab": {
      "name": "Project 02 : Gold Price Prediction.ipynb",
      "provenance": [],
      "authorship_tag": "ABX9TyNOTCJlI4peH55bFXe7Hb+n",
      "include_colab_link": true
    },
    "kernelspec": {
      "name": "python3",
      "display_name": "Python 3"
    },
    "language_info": {
      "name": "python"
    }
  },
  "cells": [
    {
      "cell_type": "markdown",
      "metadata": {
        "id": "view-in-github",
        "colab_type": "text"
      },
      "source": [
        "<a href=\"https://colab.research.google.com/github/milochanaRathnayake/MachineLearningProjects/blob/main/Project_02_Gold_Price_Prediction.ipynb\" target=\"_parent\"><img src=\"https://colab.research.google.com/assets/colab-badge.svg\" alt=\"Open In Colab\"/></a>"
      ]
    },
    {
      "cell_type": "markdown",
      "metadata": {
        "id": "cnXikZgT3V2i"
      },
      "source": [
        "Importing the Libraries"
      ]
    },
    {
      "cell_type": "code",
      "metadata": {
        "id": "Izp8CJ9y3aXV"
      },
      "source": [
        "import numpy as np #use to make numpy arrays\n",
        "import pandas as pd #for making data frame\n",
        "import matplotlib.pyplot as plt\n",
        "import seaborn as sns #use to make plots and graphs\n",
        "from sklearn.model_selection import train_test_split #for split original data in to train and test\n",
        "from sklearn.ensemble import RandomForestRegressor\n",
        "from sklearn import metrics\n",
        "\n"
      ],
      "execution_count": 1,
      "outputs": []
    },
    {
      "cell_type": "markdown",
      "metadata": {
        "id": "bP3CdHsc5EKL"
      },
      "source": [
        "Data Collection and Preprocessing\n"
      ]
    },
    {
      "cell_type": "code",
      "metadata": {
        "id": "R5EY8Ekh5KjT"
      },
      "source": [
        "#loading the csv data to a Pandas DataFrame\n",
        "df = pd.read_csv('/content/sample_data/gld_price_data.csv')"
      ],
      "execution_count": 2,
      "outputs": []
    },
    {
      "cell_type": "code",
      "metadata": {
        "colab": {
          "base_uri": "https://localhost:8080/",
          "height": 204
        },
        "id": "m8X-thCj5hjS",
        "outputId": "292b0ab6-325f-425d-f9ee-ecb3c66c3d2e"
      },
      "source": [
        "#print first 05 rows in the dataframe\n",
        "df.head()"
      ],
      "execution_count": 3,
      "outputs": [
        {
          "output_type": "execute_result",
          "data": {
            "text/html": [
              "<div>\n",
              "<style scoped>\n",
              "    .dataframe tbody tr th:only-of-type {\n",
              "        vertical-align: middle;\n",
              "    }\n",
              "\n",
              "    .dataframe tbody tr th {\n",
              "        vertical-align: top;\n",
              "    }\n",
              "\n",
              "    .dataframe thead th {\n",
              "        text-align: right;\n",
              "    }\n",
              "</style>\n",
              "<table border=\"1\" class=\"dataframe\">\n",
              "  <thead>\n",
              "    <tr style=\"text-align: right;\">\n",
              "      <th></th>\n",
              "      <th>Date</th>\n",
              "      <th>SPX</th>\n",
              "      <th>GLD</th>\n",
              "      <th>USO</th>\n",
              "      <th>SLV</th>\n",
              "      <th>EUR/USD</th>\n",
              "    </tr>\n",
              "  </thead>\n",
              "  <tbody>\n",
              "    <tr>\n",
              "      <th>0</th>\n",
              "      <td>1/2/2008</td>\n",
              "      <td>1447.160034</td>\n",
              "      <td>84.860001</td>\n",
              "      <td>78.470001</td>\n",
              "      <td>15.180</td>\n",
              "      <td>1.471692</td>\n",
              "    </tr>\n",
              "    <tr>\n",
              "      <th>1</th>\n",
              "      <td>1/3/2008</td>\n",
              "      <td>1447.160034</td>\n",
              "      <td>85.570000</td>\n",
              "      <td>78.370003</td>\n",
              "      <td>15.285</td>\n",
              "      <td>1.474491</td>\n",
              "    </tr>\n",
              "    <tr>\n",
              "      <th>2</th>\n",
              "      <td>1/4/2008</td>\n",
              "      <td>1411.630005</td>\n",
              "      <td>85.129997</td>\n",
              "      <td>77.309998</td>\n",
              "      <td>15.167</td>\n",
              "      <td>1.475492</td>\n",
              "    </tr>\n",
              "    <tr>\n",
              "      <th>3</th>\n",
              "      <td>1/7/2008</td>\n",
              "      <td>1416.180054</td>\n",
              "      <td>84.769997</td>\n",
              "      <td>75.500000</td>\n",
              "      <td>15.053</td>\n",
              "      <td>1.468299</td>\n",
              "    </tr>\n",
              "    <tr>\n",
              "      <th>4</th>\n",
              "      <td>1/8/2008</td>\n",
              "      <td>1390.189941</td>\n",
              "      <td>86.779999</td>\n",
              "      <td>76.059998</td>\n",
              "      <td>15.590</td>\n",
              "      <td>1.557099</td>\n",
              "    </tr>\n",
              "  </tbody>\n",
              "</table>\n",
              "</div>"
            ],
            "text/plain": [
              "       Date          SPX        GLD        USO     SLV   EUR/USD\n",
              "0  1/2/2008  1447.160034  84.860001  78.470001  15.180  1.471692\n",
              "1  1/3/2008  1447.160034  85.570000  78.370003  15.285  1.474491\n",
              "2  1/4/2008  1411.630005  85.129997  77.309998  15.167  1.475492\n",
              "3  1/7/2008  1416.180054  84.769997  75.500000  15.053  1.468299\n",
              "4  1/8/2008  1390.189941  86.779999  76.059998  15.590  1.557099"
            ]
          },
          "metadata": {
            "tags": []
          },
          "execution_count": 3
        }
      ]
    },
    {
      "cell_type": "code",
      "metadata": {
        "colab": {
          "base_uri": "https://localhost:8080/",
          "height": 204
        },
        "id": "J9MfTOB95uPV",
        "outputId": "6079d497-ff32-4be7-8133-811e6f7bb021"
      },
      "source": [
        "#print the last 05 rows of the dataframe\n",
        "df.tail()"
      ],
      "execution_count": 4,
      "outputs": [
        {
          "output_type": "execute_result",
          "data": {
            "text/html": [
              "<div>\n",
              "<style scoped>\n",
              "    .dataframe tbody tr th:only-of-type {\n",
              "        vertical-align: middle;\n",
              "    }\n",
              "\n",
              "    .dataframe tbody tr th {\n",
              "        vertical-align: top;\n",
              "    }\n",
              "\n",
              "    .dataframe thead th {\n",
              "        text-align: right;\n",
              "    }\n",
              "</style>\n",
              "<table border=\"1\" class=\"dataframe\">\n",
              "  <thead>\n",
              "    <tr style=\"text-align: right;\">\n",
              "      <th></th>\n",
              "      <th>Date</th>\n",
              "      <th>SPX</th>\n",
              "      <th>GLD</th>\n",
              "      <th>USO</th>\n",
              "      <th>SLV</th>\n",
              "      <th>EUR/USD</th>\n",
              "    </tr>\n",
              "  </thead>\n",
              "  <tbody>\n",
              "    <tr>\n",
              "      <th>2285</th>\n",
              "      <td>5/8/2018</td>\n",
              "      <td>2671.919922</td>\n",
              "      <td>124.589996</td>\n",
              "      <td>14.0600</td>\n",
              "      <td>15.5100</td>\n",
              "      <td>1.186789</td>\n",
              "    </tr>\n",
              "    <tr>\n",
              "      <th>2286</th>\n",
              "      <td>5/9/2018</td>\n",
              "      <td>2697.790039</td>\n",
              "      <td>124.330002</td>\n",
              "      <td>14.3700</td>\n",
              "      <td>15.5300</td>\n",
              "      <td>1.184722</td>\n",
              "    </tr>\n",
              "    <tr>\n",
              "      <th>2287</th>\n",
              "      <td>5/10/2018</td>\n",
              "      <td>2723.070068</td>\n",
              "      <td>125.180000</td>\n",
              "      <td>14.4100</td>\n",
              "      <td>15.7400</td>\n",
              "      <td>1.191753</td>\n",
              "    </tr>\n",
              "    <tr>\n",
              "      <th>2288</th>\n",
              "      <td>5/14/2018</td>\n",
              "      <td>2730.129883</td>\n",
              "      <td>124.489998</td>\n",
              "      <td>14.3800</td>\n",
              "      <td>15.5600</td>\n",
              "      <td>1.193118</td>\n",
              "    </tr>\n",
              "    <tr>\n",
              "      <th>2289</th>\n",
              "      <td>5/16/2018</td>\n",
              "      <td>2725.780029</td>\n",
              "      <td>122.543800</td>\n",
              "      <td>14.4058</td>\n",
              "      <td>15.4542</td>\n",
              "      <td>1.182033</td>\n",
              "    </tr>\n",
              "  </tbody>\n",
              "</table>\n",
              "</div>"
            ],
            "text/plain": [
              "           Date          SPX         GLD      USO      SLV   EUR/USD\n",
              "2285   5/8/2018  2671.919922  124.589996  14.0600  15.5100  1.186789\n",
              "2286   5/9/2018  2697.790039  124.330002  14.3700  15.5300  1.184722\n",
              "2287  5/10/2018  2723.070068  125.180000  14.4100  15.7400  1.191753\n",
              "2288  5/14/2018  2730.129883  124.489998  14.3800  15.5600  1.193118\n",
              "2289  5/16/2018  2725.780029  122.543800  14.4058  15.4542  1.182033"
            ]
          },
          "metadata": {
            "tags": []
          },
          "execution_count": 4
        }
      ]
    },
    {
      "cell_type": "code",
      "metadata": {
        "colab": {
          "base_uri": "https://localhost:8080/"
        },
        "id": "phcuAuj16pZT",
        "outputId": "2acb9afa-3a7b-49ff-a664-23a69fcfab61"
      },
      "source": [
        "#number of rows and columns\n",
        "df.shape"
      ],
      "execution_count": 6,
      "outputs": [
        {
          "output_type": "execute_result",
          "data": {
            "text/plain": [
              "(2290, 6)"
            ]
          },
          "metadata": {
            "tags": []
          },
          "execution_count": 6
        }
      ]
    },
    {
      "cell_type": "code",
      "metadata": {
        "colab": {
          "base_uri": "https://localhost:8080/"
        },
        "id": "OzziKvvg6wFl",
        "outputId": "fa2c3bb9-223a-4fab-b205-6b89660d83b6"
      },
      "source": [
        "# getting some basic information about the data\n",
        "df.info()"
      ],
      "execution_count": 7,
      "outputs": [
        {
          "output_type": "stream",
          "text": [
            "<class 'pandas.core.frame.DataFrame'>\n",
            "RangeIndex: 2290 entries, 0 to 2289\n",
            "Data columns (total 6 columns):\n",
            " #   Column   Non-Null Count  Dtype  \n",
            "---  ------   --------------  -----  \n",
            " 0   Date     2290 non-null   object \n",
            " 1   SPX      2290 non-null   float64\n",
            " 2   GLD      2290 non-null   float64\n",
            " 3   USO      2290 non-null   float64\n",
            " 4   SLV      2290 non-null   float64\n",
            " 5   EUR/USD  2290 non-null   float64\n",
            "dtypes: float64(5), object(1)\n",
            "memory usage: 107.5+ KB\n"
          ],
          "name": "stdout"
        }
      ]
    },
    {
      "cell_type": "code",
      "metadata": {
        "colab": {
          "base_uri": "https://localhost:8080/"
        },
        "id": "pwXrhGIF671y",
        "outputId": "0afdb9c2-f9f8-4a7c-f1df-1f37e232677e"
      },
      "source": [
        "# checking the number of missing values\n",
        "df.isnull().sum()"
      ],
      "execution_count": 8,
      "outputs": [
        {
          "output_type": "execute_result",
          "data": {
            "text/plain": [
              "Date       0\n",
              "SPX        0\n",
              "GLD        0\n",
              "USO        0\n",
              "SLV        0\n",
              "EUR/USD    0\n",
              "dtype: int64"
            ]
          },
          "metadata": {
            "tags": []
          },
          "execution_count": 8
        }
      ]
    },
    {
      "cell_type": "code",
      "metadata": {
        "colab": {
          "base_uri": "https://localhost:8080/",
          "height": 297
        },
        "id": "dDhVRaNG7JSO",
        "outputId": "591fb458-93f0-4a6f-e557-da3e46382bae"
      },
      "source": [
        "# getting the statistical measures of the data\n",
        "df.describe()"
      ],
      "execution_count": 9,
      "outputs": [
        {
          "output_type": "execute_result",
          "data": {
            "text/html": [
              "<div>\n",
              "<style scoped>\n",
              "    .dataframe tbody tr th:only-of-type {\n",
              "        vertical-align: middle;\n",
              "    }\n",
              "\n",
              "    .dataframe tbody tr th {\n",
              "        vertical-align: top;\n",
              "    }\n",
              "\n",
              "    .dataframe thead th {\n",
              "        text-align: right;\n",
              "    }\n",
              "</style>\n",
              "<table border=\"1\" class=\"dataframe\">\n",
              "  <thead>\n",
              "    <tr style=\"text-align: right;\">\n",
              "      <th></th>\n",
              "      <th>SPX</th>\n",
              "      <th>GLD</th>\n",
              "      <th>USO</th>\n",
              "      <th>SLV</th>\n",
              "      <th>EUR/USD</th>\n",
              "    </tr>\n",
              "  </thead>\n",
              "  <tbody>\n",
              "    <tr>\n",
              "      <th>count</th>\n",
              "      <td>2290.000000</td>\n",
              "      <td>2290.000000</td>\n",
              "      <td>2290.000000</td>\n",
              "      <td>2290.000000</td>\n",
              "      <td>2290.000000</td>\n",
              "    </tr>\n",
              "    <tr>\n",
              "      <th>mean</th>\n",
              "      <td>1654.315776</td>\n",
              "      <td>122.732875</td>\n",
              "      <td>31.842221</td>\n",
              "      <td>20.084997</td>\n",
              "      <td>1.283653</td>\n",
              "    </tr>\n",
              "    <tr>\n",
              "      <th>std</th>\n",
              "      <td>519.111540</td>\n",
              "      <td>23.283346</td>\n",
              "      <td>19.523517</td>\n",
              "      <td>7.092566</td>\n",
              "      <td>0.131547</td>\n",
              "    </tr>\n",
              "    <tr>\n",
              "      <th>min</th>\n",
              "      <td>676.530029</td>\n",
              "      <td>70.000000</td>\n",
              "      <td>7.960000</td>\n",
              "      <td>8.850000</td>\n",
              "      <td>1.039047</td>\n",
              "    </tr>\n",
              "    <tr>\n",
              "      <th>25%</th>\n",
              "      <td>1239.874969</td>\n",
              "      <td>109.725000</td>\n",
              "      <td>14.380000</td>\n",
              "      <td>15.570000</td>\n",
              "      <td>1.171313</td>\n",
              "    </tr>\n",
              "    <tr>\n",
              "      <th>50%</th>\n",
              "      <td>1551.434998</td>\n",
              "      <td>120.580002</td>\n",
              "      <td>33.869999</td>\n",
              "      <td>17.268500</td>\n",
              "      <td>1.303296</td>\n",
              "    </tr>\n",
              "    <tr>\n",
              "      <th>75%</th>\n",
              "      <td>2073.010070</td>\n",
              "      <td>132.840004</td>\n",
              "      <td>37.827501</td>\n",
              "      <td>22.882499</td>\n",
              "      <td>1.369971</td>\n",
              "    </tr>\n",
              "    <tr>\n",
              "      <th>max</th>\n",
              "      <td>2872.870117</td>\n",
              "      <td>184.589996</td>\n",
              "      <td>117.480003</td>\n",
              "      <td>47.259998</td>\n",
              "      <td>1.598798</td>\n",
              "    </tr>\n",
              "  </tbody>\n",
              "</table>\n",
              "</div>"
            ],
            "text/plain": [
              "               SPX          GLD          USO          SLV      EUR/USD\n",
              "count  2290.000000  2290.000000  2290.000000  2290.000000  2290.000000\n",
              "mean   1654.315776   122.732875    31.842221    20.084997     1.283653\n",
              "std     519.111540    23.283346    19.523517     7.092566     0.131547\n",
              "min     676.530029    70.000000     7.960000     8.850000     1.039047\n",
              "25%    1239.874969   109.725000    14.380000    15.570000     1.171313\n",
              "50%    1551.434998   120.580002    33.869999    17.268500     1.303296\n",
              "75%    2073.010070   132.840004    37.827501    22.882499     1.369971\n",
              "max    2872.870117   184.589996   117.480003    47.259998     1.598798"
            ]
          },
          "metadata": {
            "tags": []
          },
          "execution_count": 9
        }
      ]
    },
    {
      "cell_type": "markdown",
      "metadata": {
        "id": "8RhLB07K7hwG"
      },
      "source": [
        "Correlation : \n",
        "\n",
        "\n",
        "1.   Positive Correlation\n",
        "2.   negative Correlation"
      ]
    },
    {
      "cell_type": "code",
      "metadata": {
        "id": "P2k1aOPJ7T_Z"
      },
      "source": [
        "correlation = df.corr()"
      ],
      "execution_count": 10,
      "outputs": []
    },
    {
      "cell_type": "code",
      "metadata": {
        "colab": {
          "base_uri": "https://localhost:8080/",
          "height": 487
        },
        "id": "Cnd5dRCB76ta",
        "outputId": "76ceb6b5-cf00-4a7e-f719-b0a256a4d457"
      },
      "source": [
        "# construscting a heatmap to understand the correlation\n",
        "plt.figure(figsize=(8,8))\n",
        "sns.heatmap(correlation, cbar=True, square=True, fmt='.1f', annot=True, annot_kws={'size' :8}, cmap='Blues')\n"
      ],
      "execution_count": 13,
      "outputs": [
        {
          "output_type": "execute_result",
          "data": {
            "text/plain": [
              "<matplotlib.axes._subplots.AxesSubplot at 0x7fe256450ed0>"
            ]
          },
          "metadata": {
            "tags": []
          },
          "execution_count": 13
        },
        {
          "output_type": "display_data",
          "data": {
            "image/png": "[encoded data removed]",
            "text/plain": [
              "<Figure size 576x576 with 2 Axes>"
            ]
          },
          "metadata": {
            "tags": [],
            "needs_background": "light"
          }
        }
      ]
    },
    {
      "cell_type": "code",
      "metadata": {
        "colab": {
          "base_uri": "https://localhost:8080/"
        },
        "id": "6w1TYyKG8qfq",
        "outputId": "8e4fa5ea-201b-40e7-c84c-c07d58f20c13"
      },
      "source": [
        "# correlation value of GLD\n",
        "print(correlation['GLD'])"
      ],
      "execution_count": 14,
      "outputs": [
        {
          "output_type": "stream",
          "text": [
            "SPX        0.049345\n",
            "GLD        1.000000\n",
            "USO       -0.186360\n",
            "SLV        0.866632\n",
            "EUR/USD   -0.024375\n",
            "Name: GLD, dtype: float64\n"
          ],
          "name": "stdout"
        }
      ]
    },
    {
      "cell_type": "code",
      "metadata": {
        "colab": {
          "base_uri": "https://localhost:8080/",
          "height": 386
        },
        "id": "HWSYcCdt9cxX",
        "outputId": "be561731-ca6b-441f-de2d-9f9c921ad592"
      },
      "source": [
        "# check the distribution of the gold price\n",
        "sns.displot(df['GLD'], color='Green')"
      ],
      "execution_count": 15,
      "outputs": [
        {
          "output_type": "execute_result",
          "data": {
            "text/plain": [
              "<seaborn.axisgrid.FacetGrid at 0x7fe25febe450>"
            ]
          },
          "metadata": {
            "tags": []
          },
          "execution_count": 15
        },
        {
          "output_type": "display_data",
          "data": {
            "image/png": "[encoded data removed]",
            "text/plain": [
              "<Figure size 360x360 with 1 Axes>"
            ]
          },
          "metadata": {
            "tags": [],
            "needs_background": "light"
          }
        }
      ]
    },
    {
      "cell_type": "markdown",
      "metadata": {
        "id": "C7DS3nb4H2ui"
      },
      "source": [
        "Splitting the features and Target"
      ]
    },
    {
      "cell_type": "code",
      "metadata": {
        "colab": {
          "base_uri": "https://localhost:8080/"
        },
        "id": "zV_uwD67HfKB",
        "outputId": "b615f462-53b6-4105-cb62-c2ec8b1b268c"
      },
      "source": [
        "X = df.drop(['Date','GLD'], axis=1)\n",
        "Y = df['GLD']\n",
        "print(X)"
      ],
      "execution_count": 16,
      "outputs": [
        {
          "output_type": "stream",
          "text": [
            "              SPX        USO      SLV   EUR/USD\n",
            "0     1447.160034  78.470001  15.1800  1.471692\n",
            "1     1447.160034  78.370003  15.2850  1.474491\n",
            "2     1411.630005  77.309998  15.1670  1.475492\n",
            "3     1416.180054  75.500000  15.0530  1.468299\n",
            "4     1390.189941  76.059998  15.5900  1.557099\n",
            "...           ...        ...      ...       ...\n",
            "2285  2671.919922  14.060000  15.5100  1.186789\n",
            "2286  2697.790039  14.370000  15.5300  1.184722\n",
            "2287  2723.070068  14.410000  15.7400  1.191753\n",
            "2288  2730.129883  14.380000  15.5600  1.193118\n",
            "2289  2725.780029  14.405800  15.4542  1.182033\n",
            "\n",
            "[2290 rows x 4 columns]\n"
          ],
          "name": "stdout"
        }
      ]
    },
    {
      "cell_type": "code",
      "metadata": {
        "colab": {
          "base_uri": "https://localhost:8080/"
        },
        "id": "qUEQtHqIINqH",
        "outputId": "11d50a31-be95-45ec-f02d-98120cb8067b"
      },
      "source": [
        "print(Y)"
      ],
      "execution_count": 17,
      "outputs": [
        {
          "output_type": "stream",
          "text": [
            "0        84.860001\n",
            "1        85.570000\n",
            "2        85.129997\n",
            "3        84.769997\n",
            "4        86.779999\n",
            "           ...    \n",
            "2285    124.589996\n",
            "2286    124.330002\n",
            "2287    125.180000\n",
            "2288    124.489998\n",
            "2289    122.543800\n",
            "Name: GLD, Length: 2290, dtype: float64\n"
          ],
          "name": "stdout"
        }
      ]
    },
    {
      "cell_type": "markdown",
      "metadata": {
        "id": "g0AgxZ5qISyO"
      },
      "source": [
        "Spliiting data into Training data and Test data"
      ]
    },
    {
      "cell_type": "code",
      "metadata": {
        "id": "W_RX91rzIQ2h"
      },
      "source": [
        "X_train, X_test, Y_train, Y_test = train_test_split(X,Y,test_size = 0.2,random_state=2)"
      ],
      "execution_count": 18,
      "outputs": []
    },
    {
      "cell_type": "markdown",
      "metadata": {
        "id": "DtgFEV4TI72f"
      },
      "source": [
        "Model Training : Random Forest Regressor"
      ]
    },
    {
      "cell_type": "code",
      "metadata": {
        "id": "iugiy043IyiZ"
      },
      "source": [
        "regressor = RandomForestRegressor(n_estimators=100)"
      ],
      "execution_count": 19,
      "outputs": []
    },
    {
      "cell_type": "code",
      "metadata": {
        "colab": {
          "base_uri": "https://localhost:8080/"
        },
        "id": "8QcTeG-XKTg-",
        "outputId": "fabffe1e-c649-45c8-e7c5-537739a433a0"
      },
      "source": [
        "#training the model\n",
        "regressor.fit(X_train,Y_train)\n"
      ],
      "execution_count": 20,
      "outputs": [
        {
          "output_type": "execute_result",
          "data": {
            "text/plain": [
              "RandomForestRegressor(bootstrap=True, ccp_alpha=0.0, criterion='mse',\n",
              "                      max_depth=None, max_features='auto', max_leaf_nodes=None,\n",
              "                      max_samples=None, min_impurity_decrease=0.0,\n",
              "                      min_impurity_split=None, min_samples_leaf=1,\n",
              "                      min_samples_split=2, min_weight_fraction_leaf=0.0,\n",
              "                      n_estimators=100, n_jobs=None, oob_score=False,\n",
              "                      random_state=None, verbose=0, warm_start=False)"
            ]
          },
          "metadata": {
            "tags": []
          },
          "execution_count": 20
        }
      ]
    },
    {
      "cell_type": "code",
      "metadata": {
        "id": "3FrhLZ7BKfAO"
      },
      "source": [
        "# prediction on Test Data\n",
        "test_data_prediction = regressor.predict(X_test)"
      ],
      "execution_count": 21,
      "outputs": []
    },
    {
      "cell_type": "code",
      "metadata": {
        "colab": {
          "base_uri": "https://localhost:8080/"
        },
        "id": "vYwyrtxVKzXi",
        "outputId": "b4fd7dbe-8fc6-46a9-984c-080914dc60ac"
      },
      "source": [
        "print(test_data_prediction)"
      ],
      "execution_count": 22,
      "outputs": [
        {
          "output_type": "stream",
          "text": [
            "[168.65939959  81.83559994 116.18720016 127.60590124 120.7639012\n",
            " 154.80919811 150.12479844 125.95009998 117.61789862 125.91400051\n",
            " 116.86720076 171.40920073 141.13369904 167.91829865 115.17689995\n",
            " 117.80930031 137.64090315 169.99960046 160.02440295 162.02869926\n",
            " 155.10910044 125.28350003 175.77469951 157.10740298 125.25180059\n",
            "  93.73109977  77.93950006 120.67970016 118.9815992  167.40319995\n",
            "  88.31920079 125.27190032  91.09360086 117.73770043 120.98519926\n",
            " 136.53410008 115.4101011  115.01570094 147.37879946 107.26890122\n",
            " 104.02790221  87.09609784 126.59310059 117.98290002 151.52179887\n",
            " 119.5372999  108.30219992 108.02009818  93.0914003  127.03659822\n",
            "  74.71250058 113.59619945 121.33160006 111.33269946 118.70549876\n",
            " 120.65489915 158.83940105 167.33260101 147.17989636  85.81299856\n",
            "  94.41720052  86.87739896  90.33249994 118.91910093 126.40490027\n",
            " 127.52500015 169.8163006  122.23969946 117.35999913  98.56300033\n",
            " 168.44250141 143.29929849 132.16150267 121.30420234 121.57039933\n",
            " 119.73640062 114.48110142 118.57500047 107.31620117 127.93330097\n",
            " 113.82739962 107.69199985 116.8448004  119.68099886  88.84310022\n",
            "  88.31769877 147.40430266 127.22979998 113.61900038 110.16549811\n",
            " 108.0665991   77.56419906 168.95870207 114.04159888 121.70759894\n",
            " 127.99350178 154.83109907  91.65269867 137.85420165 158.89370342\n",
            " 125.59950046 125.6087005  130.40640139 114.78570114 119.93519935\n",
            "  92.10829933 110.22749893 167.81709953 157.33359893 114.16299925\n",
            " 106.57730132  79.69939955 113.25530023 125.88970087 107.02609922\n",
            " 119.42570067 155.83820284 159.2632986  119.71229995 134.15220346\n",
            " 101.21829987 117.5181978  119.30549995 112.92560105 102.78769928\n",
            " 160.1517978   99.12870062 149.58999848 125.66980112 169.96279898\n",
            " 125.81989927 127.29019812 127.64370232 113.80669922 113.01480082\n",
            " 123.36349935 102.19059908  89.48729943 124.73339974 101.38629919\n",
            " 107.13939873 113.90230066 117.21170062  99.4865997  122.13220023\n",
            " 163.45989977  87.29049852 106.58269973 117.24440099 127.74410119\n",
            " 124.11260076  80.85199917 120.42600065 158.30099827  88.10499955\n",
            " 110.14850004 118.71459915 171.36699833 103.07559912 106.12560064\n",
            " 122.43280038 158.46549728  87.69159834  93.56040068 112.81780034\n",
            " 177.22969946 114.17349991 119.11929987  94.87340091 125.78629995\n",
            " 166.16090071 114.81940083 116.87910142  88.35519871 148.58580042\n",
            " 120.40169993  89.60829994 111.59719991 117.47959992 118.836201\n",
            "  88.18219965  94.18529975 116.93009998 118.54170172 120.32590022\n",
            " 126.79999862 121.91059978 148.605101   164.0455009  118.47759956\n",
            " 120.45500132 151.17610084 119.03399919 171.7964992  105.85249925\n",
            " 105.09430112 149.30380045 113.69360078 124.86340115 147.26030018\n",
            " 119.59730114 115.39200061 112.74589997 113.46320208 142.42330106\n",
            " 117.83099794 102.9543001  115.88740081 103.49200168  98.83230035\n",
            " 117.37980104  90.57890017  91.59970085 153.40929891 102.68239993\n",
            " 154.97510111 114.28520168 139.11320101  89.96319838 115.52209954\n",
            " 114.25330004 122.74700045 121.82810018 165.44370158  93.04369947\n",
            " 135.10710089 121.34079944 121.12170052 104.48710019 142.37260289\n",
            " 121.46079893 116.6106004  113.32820116 127.1303979  122.6588994\n",
            " 125.79199973 121.24650035  86.79899903 132.42150159 143.67380223\n",
            "  92.77489938 158.40329947 159.27140179 126.34829984 163.76439909\n",
            " 108.78469979 109.37690079 103.93499863  94.22160117 128.16190317\n",
            " 107.06050055 160.49819953 122.20329994 132.00280098 130.38990115\n",
            " 159.94059981  90.04179879 175.99920158 127.23089992 126.85669889\n",
            "  86.23619894 124.70079907 150.61599739  89.75820014 106.92579985\n",
            " 109.04049986  83.46599914 135.64570046 154.80910231 138.61540365\n",
            "  73.9108002  152.40290158 126.20440023 126.81650011 127.44769887\n",
            " 108.62259979 156.109101   114.6223009  117.06450128 125.4933993\n",
            " 154.04090145 121.23399987 156.51909781  92.96140053 125.45600158\n",
            " 125.37750051  87.94910044  92.04369981 126.20289942 128.1344033\n",
            " 113.2625004  117.90419804 121.0915998  127.14809815 119.76220126\n",
            " 136.44350039  93.72719897 119.96190044 113.45810109  94.17719919\n",
            " 108.94269957  87.19609913 109.20509918  89.58349948  92.47610027\n",
            " 131.62270294 162.44689963  89.35150014 119.5567008  133.21320192\n",
            " 123.99270046 128.44100218 101.93999863  89.02719892 131.67000113\n",
            " 120.24930042 108.84400006 166.55570041 115.36920018  86.62919864\n",
            " 118.88010066  90.99809961 161.57210024 116.17210044 121.47890005\n",
            " 160.020598   120.08759952 112.71629937 108.4739989  126.8125001\n",
            "  75.90730047 103.00689982 127.79130286 121.65849903  92.68620045\n",
            " 131.89740097 118.28340096 115.70009989 154.63990261 159.7322003\n",
            " 110.03519969 154.68239714 119.46530082 160.46869995 118.66700008\n",
            " 157.97949959 115.11799971 116.57550039 148.97859863 114.83040076\n",
            " 125.67539852 165.39979947 117.48950007 125.0292994  153.21850375\n",
            " 153.48640257 132.2054008  114.89240018 121.31780213 124.79490064\n",
            "  89.74560045 123.10330014 154.90090073 111.84780044 106.59439989\n",
            " 162.25600086 118.27189977 165.62799999 134.06200077 114.78909968\n",
            " 152.87009838 168.69510026 115.47239987 114.30410127 157.30639886\n",
            "  85.32589877 126.98720066 128.06410028 128.85060066 123.99940057\n",
            " 124.0409009   90.44860065 153.48710002  97.21019953 137.51929967\n",
            "  89.05779935 107.69410006 115.15090057 112.7440012  124.35259885\n",
            "  91.38659896 125.48370143 162.47849835 119.96049859 165.02760115\n",
            " 126.79739843 112.29710031 127.42529921  95.08999927  90.91419969\n",
            " 103.27979887 120.77549994  83.20359968 126.31209969 160.65600517\n",
            " 117.31310077 118.17419993 119.97339986 122.65089938 120.14320133\n",
            " 121.40110006 118.20040061 107.09239951 148.29679985 126.25559901\n",
            " 115.76400091  74.00950013 127.78060085 152.58080053 122.26619995\n",
            " 125.62880034  88.74950005 103.83829888 124.69290041 120.34430036\n",
            "  73.55370086 151.85929978 121.2767002  104.88299995  86.33749796\n",
            " 115.10139925 172.22249819 119.97940067 160.01729755 113.16589982\n",
            " 121.35459998 118.61940118  96.09329996 118.94240013 125.76730008\n",
            " 118.52599982  96.2784006  154.13300135 121.78150009 147.41990018\n",
            " 159.65210257 114.0180002  122.71249909 149.10729803 127.27740055\n",
            " 165.78760073 136.87590031 120.10939921 166.59049855 108.38479949\n",
            " 121.66989861 140.29370109 106.76509911]\n"
          ],
          "name": "stdout"
        }
      ]
    },
    {
      "cell_type": "code",
      "metadata": {
        "colab": {
          "base_uri": "https://localhost:8080/"
        },
        "id": "iQ7HJ2ybK2g6",
        "outputId": "59004658-bc9c-4025-dd62-9c8fa9881ab2"
      },
      "source": [
        "# R squared error\n",
        "error_score = metrics.r2_score(Y_test, test_data_prediction)\n",
        "print(\"R squared error : \", error_score)"
      ],
      "execution_count": 24,
      "outputs": [
        {
          "output_type": "stream",
          "text": [
            "R squared error :  0.989474287883852\n"
          ],
          "name": "stdout"
        }
      ]
    },
    {
      "cell_type": "markdown",
      "metadata": {
        "id": "CnB03rPxSKMR"
      },
      "source": [
        "Compare the Actual Values and Predicted Values in  a Plot"
      ]
    },
    {
      "cell_type": "code",
      "metadata": {
        "id": "SuemQ81HRwWb"
      },
      "source": [
        "Y_test = list(Y_test)"
      ],
      "execution_count": 25,
      "outputs": []
    },
    {
      "cell_type": "code",
      "metadata": {
        "colab": {
          "base_uri": "https://localhost:8080/",
          "height": 295
        },
        "id": "1_e1tEBhSczE",
        "outputId": "f0beae03-e68b-4b7e-d8e3-e61b863a53c2"
      },
      "source": [
        "plt.plot(Y_test, color='red',label = \"Actual Values\")\n",
        "plt.plot(test_data_prediction, color = 'green', label='Predicted Values')\n",
        "plt.title('Actual Prices vs Predicted Prices')\n",
        "plt.xlabel('Number of Values')\n",
        "plt.ylabel('GLD prices')\n",
        "plt.legend()\n",
        "plt.show()"
      ],
      "execution_count": 30,
      "outputs": [
        {
          "output_type": "display_data",
          "data": {
            "image/png": "[encoded data removed]",
            "text/plain": [
              "<Figure size 432x288 with 1 Axes>"
            ]
          },
          "metadata": {
            "tags": [],
            "needs_background": "light"
          }
        }
      ]
    },
    {
      "cell_type": "code",
      "metadata": {
        "id": "RJBgnDw6XFCk"
      },
      "source": [
        ""
      ],
      "execution_count": null,
      "outputs": []
    }
  ]
}